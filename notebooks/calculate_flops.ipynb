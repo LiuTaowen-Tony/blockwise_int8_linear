{
 "cells": [
  {
   "cell_type": "code",
   "execution_count": 2,
   "metadata": {},
   "outputs": [],
   "source": [
    "int8_tops = 284\n",
    "int8_second_per_tops = 1 / int8_tops\n",
    "\n",
    "bf16_tops = 71\n",
    "bf16_second_per_tops = 1 / bf16_tops\n",
    "\n",
    "fp32_tops = 35.6\n",
    "fp32_second_per_tops = 1 / fp32_tops"
   ]
  },
  {
   "cell_type": "code",
   "execution_count": 3,
   "metadata": {},
   "outputs": [],
   "source": [
    "group_size = 32"
   ]
  },
  {
   "cell_type": "code",
   "execution_count": 4,
   "metadata": {},
   "outputs": [
    {
     "data": {
      "text/plain": [
       "0.9014084507042254"
      ]
     },
     "execution_count": 4,
     "metadata": {},
     "output_type": "execute_result"
    }
   ],
   "source": [
    "ideal_bf16_time = group_size * 2 * bf16_second_per_tops\n",
    "\n",
    "ideal_bf16_time"
   ]
  },
  {
   "cell_type": "code",
   "execution_count": 5,
   "metadata": {},
   "outputs": [
    {
     "data": {
      "text/plain": [
       "0.9294983383446748"
      ]
     },
     "execution_count": 5,
     "metadata": {},
     "output_type": "execute_result"
    }
   ],
   "source": [
    "actual_bf16_time = group_size * 2 * bf16_second_per_tops + fp32_second_per_tops\n",
    "actual_bf16_time"
   ]
  },
  {
   "cell_type": "code",
   "execution_count": 6,
   "metadata": {},
   "outputs": [
    {
     "data": {
      "text/plain": [
       "68.85434579041458"
      ]
     },
     "execution_count": 6,
     "metadata": {},
     "output_type": "execute_result"
    }
   ],
   "source": [
    "bf16_actual_throuput = (ideal_bf16_time / actual_bf16_time) * bf16_tops\n",
    "bf16_actual_throuput"
   ]
  },
  {
   "cell_type": "code",
   "execution_count": 10,
   "metadata": {},
   "outputs": [
    {
     "data": {
      "text/plain": [
       "0.30962177559740467"
      ]
     },
     "execution_count": 10,
     "metadata": {},
     "output_type": "execute_result"
    }
   ],
   "source": [
    "int8_time = (group_size * 2 * int8_second_per_tops + 3 * fp32_second_per_tops)\n",
    "int8_time"
   ]
  },
  {
   "cell_type": "code",
   "execution_count": 8,
   "metadata": {},
   "outputs": [
    {
     "data": {
      "text/plain": [
       "206.7038078200869"
      ]
     },
     "execution_count": 8,
     "metadata": {},
     "output_type": "execute_result"
    }
   ],
   "source": [
    "int8_throuput = (ideal_bf16_time / int8_time) * bf16_tops\n",
    "int8_throuput"
   ]
  },
  {
   "cell_type": "code",
   "execution_count": 12,
   "metadata": {},
   "outputs": [
    {
     "name": "stdout",
     "output_type": "stream",
     "text": [
      "0.25344200031650577\n"
     ]
    },
    {
     "data": {
      "text/plain": [
       "252.523259444271"
      ]
     },
     "execution_count": 12,
     "metadata": {},
     "output_type": "execute_result"
    }
   ],
   "source": [
    "pure_int8_time = (group_size * 2 * int8_second_per_tops + fp32_second_per_tops)\n",
    "print(pure_int8_time)\n",
    "\n",
    "pure_int8_throuput = (ideal_bf16_time / pure_int8_time) * bf16_tops\n",
    "pure_int8_throuput"
   ]
  },
  {
   "cell_type": "code",
   "execution_count": 46,
   "metadata": {},
   "outputs": [
    {
     "data": {
      "text/plain": [
       "3.686521634422413"
      ]
     },
     "execution_count": 46,
     "metadata": {},
     "output_type": "execute_result"
    }
   ],
   "source": [
    "# matmul a * group_size * b\n",
    "# required flops = \n",
    "# 2 * a * b * group_size tensor \n",
    "# a * b fp32 non-tensor\n",
    "\n",
    "\n",
    "# int8 required ops \n",
    "# (a * b * group_size * 2) int8 tensor ops\n",
    "# a * b * 3  fp32 non-tensor ops\n",
    "\n",
    "# int8 time\n",
    "# (a * b) * ((group_size * 2 * int8_second_per_tops) + (3 * fp32_second_per_tops))\n",
    "\n",
    "# bf16 time\n",
    "# (a * b) * (group_size * 2 * bf16_second_per_tops + fp32_second_per_tops)\n",
    "\n",
    "# bf16 time / int8 time\n",
    "# (group_size * 2 * bf16_second_per_tops + fp32_second_per_tops) / ((group_size * 2 * int8_second_per_tops) + (3 * fp32_second_per_tops)) \n",
    "\n",
    "\n",
    "group_size = 128\n",
    "\n",
    "\n",
    "bf16_time = (group_size * 2 * bf16_second_per_tops + fp32_second_per_tops)\n",
    "\n",
    "bf16_time / int8_time\n",
    "\n",
    "\n",
    "\n",
    "\n"
   ]
  },
  {
   "cell_type": "code",
   "execution_count": 24,
   "metadata": {},
   "outputs": [
    {
     "data": {
      "text/plain": [
       "0.6466699719054702"
      ]
     },
     "execution_count": 24,
     "metadata": {},
     "output_type": "execute_result"
    }
   ],
   "source": [
    "int8_bf16_ratio(32)"
   ]
  },
  {
   "cell_type": "code",
   "execution_count": null,
   "metadata": {},
   "outputs": [],
   "source": []
  }
 ],
 "metadata": {
  "kernelspec": {
   "display_name": ".venv",
   "language": "python",
   "name": "python3"
  },
  "language_info": {
   "codemirror_mode": {
    "name": "ipython",
    "version": 3
   },
   "file_extension": ".py",
   "mimetype": "text/x-python",
   "name": "python",
   "nbconvert_exporter": "python",
   "pygments_lexer": "ipython3",
   "version": "3.9.18"
  }
 },
 "nbformat": 4,
 "nbformat_minor": 2
}
